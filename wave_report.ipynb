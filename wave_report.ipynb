{
 "cells": [
  {
   "cell_type": "code",
   "execution_count": 527,
   "metadata": {},
   "outputs": [],
   "source": [
    "import bs4\n",
    "from urllib.request import urlopen as uReq\n",
    "from bs4 import BeautifulSoup as soup\n",
    "import pandas as pd\n",
    "import numpy as np\n",
    "import re\n",
    "import requests"
   ]
  },
  {
   "cell_type": "markdown",
   "metadata": {},
   "source": [
    "# surfline"
   ]
  },
  {
   "cell_type": "code",
   "execution_count": 595,
   "metadata": {},
   "outputs": [],
   "source": [
    "# Different beaches in the local San Diego area. Feel free to change them up.\n",
    "tmp_url = \"https://www.surfline.com/surf-report/terra-mar-point/5842041f4e65fad6a77088a6\"\n",
    "oside_pier_south_url = \"https://www.surfline.com/surf-report/oceanside-pier-southside/584204204e65fad6a7709435\"\n",
    "oside_pier_north_url = \"https://www.surfline.com/surf-report/oceanside-pier-northside/5842041f4e65fad6a7708835\"\n",
    "oside_harbor_url = \"https://www.surfline.com/surf-report/oceanside-harbor-north-jetty/5842041f4e65fad6a7708832\"\n",
    "grandview_url = \"https://www.surfline.com/surf-report/grandview/5842041f4e65fad6a770889f\"\n",
    "seaside_reef_url = \"https://www.surfline.com/surf-report/seaside-reef/5842041f4e65fad6a77088b3\"\n",
    "d_street_url = \"https://www.surfline.com/surf-report/d-street/5842041f4e65fad6a77088b7\"\n",
    "la_jolla_url = \"https://www.surfline.com/surf-report/la-jolla-shores/5842041f4e65fad6a77088cc\"\n",
    "swamis_url = \"https://www.surfline.com/surf-report/swami-s/5842041f4e65fad6a77088b4\"\n",
    "\n",
    "urls = [tmp_url, oside_harbor_url, oside_pier_north_url, oside_pier_south_url, swamis_url, grandview_url, d_street_url]"
   ]
  },
  {
   "cell_type": "code",
   "execution_count": 596,
   "metadata": {},
   "outputs": [],
   "source": [
    "def report():\n",
    "   \n",
    "    # making rows for dataframe\n",
    "    location = np.array([])\n",
    "    condition = np.array([])\n",
    "    height = np.array([])\n",
    "    water_temp = np.array([])\n",
    "    weather = np.array([])\n",
    "    tide = np.array([])\n",
    "    wind = np.array([])\n",
    "    \n",
    "    for url in urls:\n",
    "        # Opening up connection, grabbing the page\n",
    "        url_page = requests.get(url)\n",
    "        \n",
    "        # html parser\n",
    "        url_soup = soup(url_page.text, \"html.parser\")\n",
    "        \n",
    "        # 'Terra Mar Point Surf'\n",
    "        url_loc = url_soup.h1.text.replace(\" Report & Forecast\", \"\")\n",
    "        \n",
    "        # current conditions (i.e. top table on website)\n",
    "        current_cond = url_soup.find(\"div\", {\"class\": \"sl-spot-report\"})\n",
    "        url_cond = current_cond.div.text.lower()\n",
    "        \n",
    "        # len(url_data) == 4\n",
    "        url_data = url_soup.findAll(\"div\", {\"class\": \"sl-spot-forecast-summary__stat\"})\n",
    "        \n",
    "        # takes current wave height\n",
    "        pattern = '[0-9]+-[0-9]+FT'\n",
    "        url_height = re.findall(pattern, url_data[0].text)[0].replace(\"FT\", \" FT\")\n",
    "        \n",
    "        # takes current tide\n",
    "        pattern = \"[0-9].[0-9]+FT\"\n",
    "        url_tide = re.findall(pattern, url_data[1].text)[0].replace(\"FT\", \" FT\")\n",
    "        \n",
    "        # takes wind speed\n",
    "        pattern = '[0-9]+[A-Z]+'\n",
    "        url_wind = re.findall(pattern, url_data[2].text)[0].replace(\"KTS\", \" \")\n",
    "        \n",
    "        # outside temp\n",
    "        pattern = '[0-9]+ ºF'\n",
    "        url_weather = url_soup.find(\"div\", {\"class\":\"sl-wetsuit-recommender__conditions__weather\"}).text\n",
    "        url_weather = re.findall(pattern, url_weather)[0]\n",
    "        \n",
    "        # use for water temp\n",
    "        wetsuit = url_soup.find(\"div\", {\"class\":\"sl-wetsuit-recommender__conditions\"})\n",
    "        \n",
    "        # water temp\n",
    "        pattern = '[0-9]+ - [0-9]+ ºF'\n",
    "        H20temp = re.findall(pattern, wetsuit.div.text)[0]\n",
    "        \n",
    "        # columns for DataFrame\n",
    "        columns = np.array([\"location\", \"condition\", \"wave height\", \"H20temp\", \"weather\",  \"tide\", \"wind\"])\n",
    "    \n",
    "        # making rows for DataFrame\n",
    "        location = np.append(location, url_loc)\n",
    "        condition = np.append(condition, url_cond)\n",
    "        height = np.append(height, url_height)\n",
    "        water_temp = np.append(water_temp, H20temp)\n",
    "        weather = np.append(weather, url_weather)\n",
    "        # sunrise = np.array([1])\n",
    "        # sunset = np.array([1])\n",
    "        tide = np.append(tide, url_tide)\n",
    "        wind = np.append(wind, url_wind)\n",
    "        \n",
    "    # making dataframe\n",
    "    report = pd.DataFrame(columns = columns)\n",
    "    report['location'] = location\n",
    "    report['condition'] = condition\n",
    "    report['wave height'] = height\n",
    "    report['H20temp'] = water_temp\n",
    "    report['weather'] = weather\n",
    "    # report['sunrise'] = sunrise\n",
    "    # report['sunset'] = sunset\n",
    "    report['tide'] = tide\n",
    "    report['wind'] = wind\n",
    "    \n",
    "    \n",
    "    \n",
    "    # return the DataFrame\n",
    "    return report"
   ]
  },
  {
   "cell_type": "code",
   "execution_count": 706,
   "metadata": {},
   "outputs": [],
   "source": [
    "class report:\n",
    "    \n",
    "    def __init__(self):\n",
    "        tmp_url = \"https://www.surfline.com/surf-report/terra-mar-point/5842041f4e65fad6a77088a6\"\n",
    "        oside_pier_south_url = \"https://www.surfline.com/surf-report/oceanside-pier-southside/584204204e65fad6a7709435\"\n",
    "        oside_pier_north_url = \"https://www.surfline.com/surf-report/oceanside-pier-northside/5842041f4e65fad6a7708835\"\n",
    "        oside_harbor_url = \"https://www.surfline.com/surf-report/oceanside-harbor-north-jetty/5842041f4e65fad6a7708832\"\n",
    "        grandview_url = \"https://www.surfline.com/surf-report/grandview/5842041f4e65fad6a770889f\"\n",
    "        seaside_reef_url = \"https://www.surfline.com/surf-report/seaside-reef/5842041f4e65fad6a77088b3\"\n",
    "        d_street_url = \"https://www.surfline.com/surf-report/d-street/5842041f4e65fad6a77088b7\"\n",
    "        la_jolla_url = \"https://www.surfline.com/surf-report/la-jolla-shores/5842041f4e65fad6a77088cc\"\n",
    "        swamis_url = \"https://www.surfline.com/surf-report/swami-s/5842041f4e65fad6a77088b4\"\n",
    "        urls = [tmp_url, oside_harbor_url, oside_pier_north_url, oside_pier_south_url, swamis_url, grandview_url, d_street_url]\n",
    "        self.frame = pd.DataFrame()\n",
    "        \n",
    "    def report_surf(self):\n",
    "        # making rows for dataframe\n",
    "        location = np.array([])\n",
    "        condition = np.array([])\n",
    "        height = np.array([])\n",
    "        water_temp = np.array([])\n",
    "        weather = np.array([])\n",
    "        tide = np.array([])\n",
    "        wind = np.array([])\n",
    "        for url in urls:\n",
    "            # Opening up connection, grabbing the page\n",
    "            url_page = requests.get(url)\n",
    "            # html parser\n",
    "            url_soup = soup(url_page.text, \"html.parser\")\n",
    "            # 'Terra Mar Point Surf'\n",
    "            url_loc = url_soup.h1.text.replace(\" Report & Forecast\", \"\")\n",
    "            # current conditions (i.e. top table on website)\n",
    "            current_cond = url_soup.find(\"div\", {\"class\": \"sl-spot-report\"})\n",
    "            url_cond = current_cond.div.text.lower()\n",
    "            # len(url_data) == 4\n",
    "            url_data = url_soup.findAll(\"div\", {\"class\": \"sl-spot-forecast-summary__stat\"})\n",
    "            # takes current wave height\n",
    "            pattern = '[0-9]+-[0-9]+FT'\n",
    "            url_height = re.findall(pattern, url_data[0].text)[0].replace(\"FT\", \" FT\")\n",
    "            # takes current tide\n",
    "            pattern = \"[0-9].[0-9]+FT\"\n",
    "            url_tide = re.findall(pattern, url_data[1].text)[0].replace(\"FT\", \" FT\")\n",
    "            # takes wind speed\n",
    "            pattern = '[0-9]+[A-Z]+'\n",
    "            url_wind = re.findall(pattern, url_data[2].text)[0].replace(\"KTS\", \" \")\n",
    "            # outside temp\n",
    "            pattern = '[0-9]+ ºF'\n",
    "            url_weather = url_soup.find(\"div\", {\"class\":\"sl-wetsuit-recommender__conditions__weather\"}).text\n",
    "            url_weather = re.findall(pattern, url_weather)[0]\n",
    "            # use for water temp\n",
    "            wetsuit = url_soup.find(\"div\", {\"class\":\"sl-wetsuit-recommender__conditions\"})\n",
    "            # water temp\n",
    "            pattern = '[0-9]+ - [0-9]+ ºF'\n",
    "            H20temp = re.findall(pattern, wetsuit.div.text)[0]\n",
    "            # columns for DataFrame\n",
    "            columns = np.array([\"location\", \"condition\", \"wave height\", \"H20temp\", \"weather\",  \"tide\", \"wind\"])\n",
    "            # making rows for DataFrame\n",
    "            location = np.append(location, url_loc)\n",
    "            condition = np.append(condition, url_cond)\n",
    "            height = np.append(height, url_height)\n",
    "            water_temp = np.append(water_temp, H20temp)\n",
    "            weather = np.append(weather, url_weather)\n",
    "            # sunrise = np.array([1])\n",
    "            # sunset = np.array([1])\n",
    "            tide = np.append(tide, url_tide)\n",
    "            wind = np.append(wind, url_wind)\n",
    "        # making dataframe\n",
    "        report = pd.DataFrame(columns = columns)\n",
    "        report['location'] = location\n",
    "        report['condition'] = condition\n",
    "        report['wave height'] = height\n",
    "        report['H20temp'] = water_temp\n",
    "        report['weather'] = weather\n",
    "        # report['sunrise'] = sunrise\n",
    "        # report['sunset'] = sunset\n",
    "        report['tide'] = tide\n",
    "        report['wind'] = wind\n",
    "        self.frame = report\n",
    "        # return the DataFrame\n",
    "        return report\n",
    "    \n",
    "    # variables\n",
    "\n",
    "    \n",
    "    \n",
    "    def best(self):\n",
    "        if self.frame.size == 0:\n",
    "            return \"Need to run .report_surf() first.\"\n",
    "        if len(self.frame[self.frame['condition'] == 'fair']) > 0:\n",
    "            # converts wind collumn to integers\n",
    "            report['wind'] = np.array([int(re.findall(pattern, i)[0]) for i in report['wind']])\n",
    "            # best location has lowest wind\n",
    "            best_location = self.frame.sort_values('wind', ascending=True).iloc[0,0]\n",
    "            return f\"The best location is {best_location}.\"\n",
    "        else:\n",
    "            return \"There is no good surf today.\"\n",
    "    \n",
    "\n",
    "        \n",
    "        \n",
    "    \n",
    "    \n",
    "    \n",
    "    \n",
    "\n",
    "    \n",
    "    "
   ]
  },
  {
   "cell_type": "code",
   "execution_count": 707,
   "metadata": {},
   "outputs": [],
   "source": [
    "r = report()"
   ]
  },
  {
   "cell_type": "code",
   "execution_count": null,
   "metadata": {},
   "outputs": [],
   "source": [
    "r.report_surf()"
   ]
  },
  {
   "cell_type": "code",
   "execution_count": 702,
   "metadata": {
    "scrolled": true
   },
   "outputs": [
    {
     "data": {
      "text/plain": [
       "'Need to run .report_surf() first.'"
      ]
     },
     "execution_count": 702,
     "metadata": {},
     "output_type": "execute_result"
    }
   ],
   "source": [
    "r.best()"
   ]
  },
  {
   "cell_type": "code",
   "execution_count": 698,
   "metadata": {},
   "outputs": [
    {
     "data": {
      "text/plain": [
       "0"
      ]
     },
     "execution_count": 698,
     "metadata": {},
     "output_type": "execute_result"
    }
   ],
   "source": [
    "pd.DataFrame().size"
   ]
  },
  {
   "cell_type": "code",
   "execution_count": null,
   "metadata": {},
   "outputs": [],
   "source": []
  }
 ],
 "metadata": {
  "kernelspec": {
   "display_name": "Python 3",
   "language": "python",
   "name": "python3"
  },
  "language_info": {
   "codemirror_mode": {
    "name": "ipython",
    "version": 3
   },
   "file_extension": ".py",
   "mimetype": "text/x-python",
   "name": "python",
   "nbconvert_exporter": "python",
   "pygments_lexer": "ipython3",
   "version": "3.6.7"
  }
 },
 "nbformat": 4,
 "nbformat_minor": 2
}
